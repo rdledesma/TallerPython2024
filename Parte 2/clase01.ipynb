{
 "cells": [
  {
   "cell_type": "markdown",
   "metadata": {},
   "source": [
    "En estos encuentros vamos a trabajar con un set de datos de reflectancia planetaria, en para la ciudad de salta"
   ]
  },
  {
   "cell_type": "code",
   "execution_count": 4,
   "metadata": {},
   "outputs": [
    {
     "name": "stdout",
     "output_type": "stream",
     "text": [
      "rad/lq_15.csv\n"
     ]
    }
   ],
   "source": [
    "import glob\n",
    "import pandas as pd\n",
    "\n",
    "\"\"\"\n",
    "Las siguientes lineas permiten listar todas las rutas de archivos\n",
    " que cumplan con la regresión especificada\n",
    "\n",
    "\"\"\"\n",
    "for filePath in glob.glob(\"rad/*.csv\"):\n",
    "    print(filePath)"
   ]
  },
  {
   "cell_type": "markdown",
   "metadata": {},
   "source": []
  },
  {
   "cell_type": "markdown",
   "metadata": {},
   "source": [
    "Los dataframes se pueden unir por conlumna o por filas para constituir un único dataframe"
   ]
  },
  {
   "cell_type": "code",
   "execution_count": 7,
   "metadata": {},
   "outputs": [
    {
     "name": "stdout",
     "output_type": "stream",
     "text": [
      "DataFrame 1:\n",
      "   A  B\n",
      "0  1  3\n",
      "1  2  4 \n",
      "\n",
      "DataFrame 2:\n",
      "   A  B\n",
      "0  5  7\n",
      "1  6  8 \n",
      "\n",
      "DataFrame 3:\n",
      "    A   B\n",
      "0   9  11\n",
      "1  10  12 \n",
      "\n",
      "Concatenación por filas (axis=0):\n",
      "    A   B\n",
      "0   1   3\n",
      "1   2   4\n",
      "0   5   7\n",
      "1   6   8\n",
      "0   9  11\n",
      "1  10  12 \n",
      "\n",
      "Concatenación por columnas (axis=1):\n",
      "   A  B  C\n",
      "0  1  3  5\n",
      "1  2  4  6\n"
     ]
    }
   ],
   "source": [
    "# Crear tres DataFrames artificiales\n",
    "df1 = pd.DataFrame({'A': [1, 2], 'B': [3, 4]})\n",
    "df2 = pd.DataFrame({'A': [5, 6], 'B': [7, 8]})\n",
    "df3 = pd.DataFrame({'A': [9, 10], 'B': [11, 12]})\n",
    "\n",
    "print(\"DataFrame 1:\")\n",
    "print(df1, \"\\n\")\n",
    "\n",
    "print(\"DataFrame 2:\")\n",
    "print(df2, \"\\n\")\n",
    "\n",
    "print(\"DataFrame 3:\")\n",
    "print(df3, \"\\n\")\n",
    "\n",
    "# Concatenación por filas\n",
    "df_row_concat = pd.concat([df1, df2, df3], axis=0)\n",
    "print(\"Concatenación por filas (axis=0):\")\n",
    "print(df_row_concat, \"\\n\")\n",
    "\n",
    "# Crear tres DataFrames con diferentes columnas\n",
    "df4 = pd.DataFrame({'A': [1, 2]})\n",
    "df5 = pd.DataFrame({'B': [3, 4]})\n",
    "df6 = pd.DataFrame({'C': [5, 6]})\n",
    "\n",
    "# Concatenación por columnas\n",
    "df_col_concat = pd.concat([df4, df5, df6], axis=1)\n",
    "print(\"Concatenación por columnas (axis=1):\")\n",
    "print(df_col_concat)"
   ]
  },
  {
   "cell_type": "markdown",
   "metadata": {},
   "source": [
    "Ejercicios:"
   ]
  },
  {
   "cell_type": "markdown",
   "metadata": {},
   "source": [
    "Cargue en memoria el archivo rp/sa_15.csv\n",
    "\n",
    "Realice una inspección visual de las series\n",
    "Filtre los valores de la noche (ctz<0)\n",
    "\n",
    "\n",
    "Asocie un tipo de dato datetime \n",
    "\n",
    "Crear nuevas columnas con información de la fecha. Año, mes, dia, dia del año, hora\n",
    "\n",
    "Seleccionar datos dentro de un intervalo de tiempo. start_date= \"2023-01-01 08:00:00\"\n",
    "end_date = \"2023-05-01 00:00:00\"\n",
    " \n",
    "\n",
    "\n"
   ]
  },
  {
   "cell_type": "code",
   "execution_count": 9,
   "metadata": {},
   "outputs": [
    {
     "name": "stdout",
     "output_type": "stream",
     "text": [
      "Datos faltantes por columna:\n",
      "date     0\n",
      "ctz      0\n",
      "RP1     38\n",
      "RP2     39\n",
      "RP3     42\n",
      "dtype: int64\n"
     ]
    }
   ],
   "source": [
    "df = pd.read_csv('rp/sa_15.csv')\n",
    "df['date'] = pd.to_datetime(df.date)\n",
    "\n",
    "df = df[[\"date\", \"ctz\", \"RP1\", \"RP2\", \"RP3\"]]\n",
    "\n",
    "full_range = pd.date_range(start=df[\"date\"].min(), end=df[\"date\"].max(), freq=\"15T\")  # Intervalos de 15 min\n",
    "df_complete = df.set_index(\"date\").reindex(full_range).reset_index()\n",
    "df_complete.columns = [\"date\", \"ctz\", \"RP1\", \"RP2\", \"RP3\"]  # Restaurar nombres\n",
    "\n",
    "missing_count = df_complete.isnull().sum()\n",
    "print(\"Datos faltantes por columna:\")\n",
    "print(missing_count)"
   ]
  },
  {
   "cell_type": "markdown",
   "metadata": {},
   "source": []
  },
  {
   "cell_type": "code",
   "execution_count": 10,
   "metadata": {},
   "outputs": [
    {
     "name": "stdout",
     "output_type": "stream",
     "text": [
      "day\n",
      "2023-01-01    96\n",
      "2023-01-02    96\n",
      "2023-01-03    96\n",
      "2023-01-04    96\n",
      "2023-01-05    96\n",
      "              ..\n",
      "2023-12-27    96\n",
      "2023-12-28    96\n",
      "2023-12-29    96\n",
      "2023-12-30    96\n",
      "2023-12-31    96\n",
      "Length: 365, dtype: int64\n"
     ]
    }
   ],
   "source": [
    "df[\"day\"] = df[\"date\"].dt.date  # Extraer solo la fecha (sin hora)\n",
    "daily_counts = df.groupby(\"day\").size()  # Contar registros por día\n",
    "\n",
    "print(daily_counts)"
   ]
  },
  {
   "cell_type": "markdown",
   "metadata": {},
   "source": []
  }
 ],
 "metadata": {
  "kernelspec": {
   "display_name": "geers-env",
   "language": "python",
   "name": "python3"
  },
  "language_info": {
   "codemirror_mode": {
    "name": "ipython",
    "version": 3
   },
   "file_extension": ".py",
   "mimetype": "text/x-python",
   "name": "python",
   "nbconvert_exporter": "python",
   "pygments_lexer": "ipython3",
   "version": "3.11.3"
  }
 },
 "nbformat": 4,
 "nbformat_minor": 2
}
